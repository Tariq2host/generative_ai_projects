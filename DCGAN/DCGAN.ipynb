{
 "cells": [
  {
   "cell_type": "code",
   "execution_count": 1,
   "metadata": {},
   "outputs": [],
   "source": [
    "import torch\n",
    "import torch.nn as nn\n",
    "\n",
    "\n",
    "class Discriminator(nn.Module):\n",
    "    def __init__(self, channels_img, features_d):\n",
    "        super(Discriminator, self).__init__()\n",
    "        self.disc = nn.Sequential(\n",
    "            # Input shape : N* channels_img * 64 * 64\n",
    "            nn.Conv2d(\n",
    "                channels_img, features_d, kernek_size=4, stride=2, padding=1\n",
    "            ), # 32*32\n",
    "            nn.LeakyReLU(0.2), \n",
    "            self._block(features_d, features_d*2, 4, 2 ,1), # 16*16\n",
    "            self._block(features_d*2, features_d*4, 4, 2 ,1), # 8*8\n",
    "            self._block(features_d*4, features_d*8, 4, 2 ,1), # 4*4\n",
    "            nn.Conv2d(features_d*8, 1, kernek_size=4, stride = 2, padding = 0), #1*1\n",
    "            nn.Sigmoid(),\n",
    "        )\n",
    "\n",
    "    def _block(self, in_channels, out_channels, kernek_size, stride, padding):\n",
    "        return nn.Sequential(\n",
    "            nn.Conv2d(\n",
    "            in_channels,\n",
    "            out_channels,\n",
    "            kernek_size,\n",
    "            stride,\n",
    "            padding,\n",
    "            bias = False,\n",
    "        ),\n",
    "        nn.BatchNorm2d(out_channels), \n",
    "        nn.LeakyReLU(0.2),\n",
    "        )\n",
    "    \n",
    "    def forward(self, x):\n",
    "        return self.disc(x)"
   ]
  },
  {
   "cell_type": "code",
   "execution_count": null,
   "metadata": {},
   "outputs": [],
   "source": [
    "class Generator(nn.Module):\n",
    "    def __init__(self, z_dim, channels_img, features_g):\n",
    "        super(Generator, self).__init__()\n",
    "        self.net = nn.Sequential(\n",
    "            # input: N * z_dim * 1 *1 \n",
    "            self._block(z_dim, features_g*16,4,1,0) # N*f*g*16*4*4\n",
    "            self._block(features_g*8, features_g*8,4,2,1), # 8*8\n",
    "            self._block(features_g*8, features_g*4,4,2,1), #8*8\n",
    "        )\n",
    "\n",
    "    def _block(self, in_channels, out_channels, kernel_size, stride, padding):\n",
    "        return nn.Sequential(\n",
    "            nn.ConvTranspose2d\n",
    "            (\n",
    "                in_channels, \n",
    "                out_channels, \n",
    "                kernel_size, \n",
    "                stride, \n",
    "                padding, \n",
    "                bias=False,\n",
    "            ), \n",
    "            nn.BatchNorm2d(out_channels),\n",
    "            nn.ReLU()\n",
    "        )"
   ]
  }
 ],
 "metadata": {
  "kernelspec": {
   "display_name": "base",
   "language": "python",
   "name": "python3"
  },
  "language_info": {
   "codemirror_mode": {
    "name": "ipython",
    "version": 3
   },
   "file_extension": ".py",
   "mimetype": "text/x-python",
   "name": "python",
   "nbconvert_exporter": "python",
   "pygments_lexer": "ipython3",
   "version": "3.9.12"
  }
 },
 "nbformat": 4,
 "nbformat_minor": 2
}
