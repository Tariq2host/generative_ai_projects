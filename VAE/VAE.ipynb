{
 "cells": [
  {
   "cell_type": "markdown",
   "metadata": {},
   "source": [
    "# VAE from scartch on MNIST"
   ]
  },
  {
   "cell_type": "markdown",
   "metadata": {},
   "source": [
    "## Importing Libraries"
   ]
  },
  {
   "cell_type": "code",
   "execution_count": 1,
   "metadata": {},
   "outputs": [],
   "source": [
    "import torch\n",
    "from torch import nn"
   ]
  },
  {
   "cell_type": "markdown",
   "metadata": {},
   "source": [
    "## VAE Model"
   ]
  },
  {
   "cell_type": "code",
   "execution_count": 16,
   "metadata": {},
   "outputs": [],
   "source": [
    "class VariationalAutoencoder(nn.Module):\n",
    "    def  __init__(self, input_dim, h_dim =200, z_dim=20):\n",
    "        super().__init__()\n",
    "        # encoder\n",
    "        self.img_2hid = nn.Linear(input_dim, h_dim)\n",
    "        self.hid_2mu = nn.Linear(h_dim, z_dim)\n",
    "        self.hid_2sigma = nn.Linear(h_dim, z_dim)\n",
    "        # decoder\n",
    "        self.z_2hid = nn.Linear(z_dim, h_dim)\n",
    "        self.hid_2img = nn.Linear(h_dim, input_dim)\n",
    "        self.relu = nn.ReLU()\n",
    "\n",
    "    def encode(self, x):\n",
    "        # q_phi(z|x) = N(mu_x|z, sigma_x|z)\n",
    "        h = self.relu(self.img_2hid(x))\n",
    "        mu, sigma = self.hid_2mu(h), self.hid_2sigma(h)\n",
    "        return mu, sigma\n",
    "\n",
    "    def decode(self, z):\n",
    "        # p_teta(x|z) = N(mu_z|x, sigma_z|x)\n",
    "        h = self.relu(self.z_2hid(z))\n",
    "        return torch.sigmoid(self.hid_2img(h)) # pixel value should be in 0 and 1\n",
    "\n",
    "    def forward(self,x):\n",
    "        mu, sigma = self.encode(x)\n",
    "        z_reparametrized = mu +sigma*torch.randn_like(sigma)\n",
    "        x_reconstructed = self.decode(z_reparametrized)\n",
    "        return  x_reconstructed, mu, sigma"
   ]
  },
  {
   "cell_type": "markdown",
   "metadata": {},
   "source": [
    "## Test Model with random"
   ]
  },
  {
   "cell_type": "code",
   "execution_count": 15,
   "metadata": {},
   "outputs": [
    {
     "name": "stdout",
     "output_type": "stream",
     "text": [
      "torch.Size([4, 784]) torch.Size([4, 20]) torch.Size([4, 20])\n"
     ]
    }
   ],
   "source": [
    "x = torch.randn(4,28*28) #  MNIST input image is of size (batch, channels=1, height=28, width=28)\n",
    "vae = VariationalAutoencoder(input_dim=784)\n",
    "x_reconstructed,mu,sigma = vae(x)\n",
    "print(x_reconstructed.shape, mu.shape, sigma.shape)"
   ]
  },
  {
   "cell_type": "markdown",
   "metadata": {},
   "source": [
    "## Training the model"
   ]
  },
  {
   "cell_type": "code",
   "execution_count": null,
   "metadata": {},
   "outputs": [],
   "source": [
    "import torch\n",
    "import torchvision.datasets as datasets\n",
    "from tqdm import tqdm # progress bar\n",
    "from torch import nn , optim\n",
    "from torchvision import transforms # image augmentation\n",
    "from torchvision.utils import save_image\n",
    "from torch.utils.data import DataLoader"
   ]
  },
  {
   "cell_type": "markdown",
   "metadata": {},
   "source": [
    "## Config"
   ]
  },
  {
   "cell_type": "code",
   "execution_count": null,
   "metadata": {},
   "outputs": [],
   "source": [
    "DEVICE = torch.device('cuda' if torch.cuda.is_available() else \"cpu\")\n",
    "INPUT_DIM = 784\n",
    "H_DIM = 200\n",
    "Z_DIM = 20\n",
    "BATCH_SIZE = 100\n",
    "NUM_EPOCHS = 20 \n",
    "BATCH_SIZE = 64\n",
    "LR_RATE = 3e-6  # karpathy constant"
   ]
  },
  {
   "cell_type": "markdown",
   "metadata": {},
   "source": [
    "## Dataset loading"
   ]
  },
  {
   "cell_type": "code",
   "execution_count": null,
   "metadata": {},
   "outputs": [],
   "source": [
    "datasets =datasets.MNIST(root=\"dataser/\", train=True, transform=transforms.ToTensor(),download=True)\n",
    "train_loader = DataLoader(dataset=datasets, batch_size=BATCH_SIZE, shuffle=True)\n",
    "model = VariationalAutoencoder(INPUT_DIM, H_DIM, Z_DIM).to(DEVICE)\n",
    "optimizer = optim.Adam(model.parameters(), lr=LR_RATE)\n",
    "loss_fn = nn.BCELoss(reduction=\"sum\") ## binary cross entropy loss"
   ]
  },
  {
   "cell_type": "markdown",
   "metadata": {},
   "source": [
    "## Start Trainning"
   ]
  },
  {
   "cell_type": "code",
   "execution_count": 54,
   "metadata": {},
   "outputs": [
    {
     "name": "stderr",
     "output_type": "stream",
     "text": [
      "1200it [00:33, 36.05it/s, loss=6.94e+10]\n",
      "1200it [00:35, 34.13it/s, loss=4.38e+10]\n",
      "1200it [00:46, 26.06it/s, loss=4.92e+10]\n",
      "1200it [00:33, 35.78it/s, loss=3.4e+10] \n",
      "1200it [00:38, 30.78it/s, loss=2.53e+10]\n",
      "1200it [00:33, 36.34it/s, loss=1.78e+10]\n",
      "1200it [00:29, 40.11it/s, loss=1.11e+10]\n",
      "1200it [00:30, 38.77it/s, loss=8.93e+9] \n",
      "1200it [00:31, 38.46it/s, loss=5.67e+9]\n",
      "1200it [00:31, 38.53it/s, loss=3.98e+9]\n",
      "1200it [00:27, 43.07it/s, loss=2.61e+9]\n",
      "1200it [00:28, 42.79it/s, loss=1.51e+9]\n",
      "1200it [00:27, 43.11it/s, loss=7.8e+8] \n",
      "1200it [00:27, 43.36it/s, loss=4.07e+8]\n",
      "1200it [00:27, 43.34it/s, loss=1.55e+8]\n",
      "1200it [00:28, 42.83it/s, loss=6.37e+7]\n",
      "1200it [00:25, 47.17it/s, loss=2.16e+7]\n",
      "1200it [00:24, 48.79it/s, loss=4.67e+6]\n",
      "1200it [00:24, 48.82it/s, loss=1.3e+6] \n",
      "1200it [00:24, 49.56it/s, loss=2.76e+5]\n"
     ]
    }
   ],
   "source": [
    "for epoch in range(NUM_EPOCHS):\n",
    "    loop = tqdm(enumerate(train_loader))\n",
    "    for i, (x,_) in loop:\n",
    "        # forward pass\n",
    "        x = x.to(DEVICE).view(x.shape[0], INPUT_DIM)\n",
    "        x_reconstructed, mu, sigma = model(x)\n",
    "\n",
    "        # compute loss\n",
    "        reconstruction_loss = loss_fn(x_reconstructed, x) # push it to reconstruct the image\n",
    "        kl_div = -torch.sum(1 + torch.log(sigma.pow(2)) - mu.pow(2) - sigma.pow(2)) #push it to gaussian latant space\n",
    "        \n",
    "        # backprop \n",
    "        loss = reconstruction_loss + kl_div\n",
    "        optimizer.zero_grad()\n",
    "        loss.backward()\n",
    "        optimizer.step()\n",
    "        loop.set_postfix(loss=loss.item())"
   ]
  },
  {
   "cell_type": "markdown",
   "metadata": {},
   "source": [
    "## Inference"
   ]
  },
  {
   "cell_type": "code",
   "execution_count": 55,
   "metadata": {},
   "outputs": [],
   "source": [
    "model = model.to(\"cpu\")\n",
    "def inference(digit, num_examples=1):\n",
    "    \"\"\"Generate and return `num_examples` images of digit from 0 to 9.\n",
    "    Args: \n",
    "        digit (int): The digit to generate images for ranging from 0 to 9\n",
    "        num_examples (int): Number of examples/images to generate\n",
    "    \n",
    "    Returns:\n",
    "    A list of `PIL.Image` objects containing the generated images\n",
    "    \"\"\"\n",
    "    images = []\n",
    "    idx = 0\n",
    "    for x, y in datasets:\n",
    "        if y == idx:\n",
    "            images.append(x)\n",
    "            idx +=1\n",
    "        if idx == 10:\n",
    "            break\n",
    "\n",
    "    encoding_digit = []\n",
    "    for d in range(10):\n",
    "        with torch.no_grad():\n",
    "            mu, sigma = model.encode(images[d].view(1,784))\n",
    "        encoding_digit.append((mu, sigma))\n",
    "\n",
    "    mu, sigma = encoding_digit[digit]\n",
    "    for example in range(num_examples):\n",
    "        epsilon = torch.randn_like(sigma)\n",
    "        z = mu + sigma * epsilon \n",
    "        out = model.decode(z)\n",
    "        out = out.view(-1,1,28,28)\n",
    "        save_image(out, f\"test/generated_[Digit-{digit}]_{example}.png\")"
   ]
  },
  {
   "cell_type": "code",
   "execution_count": 56,
   "metadata": {},
   "outputs": [],
   "source": [
    "for idx in range(10):\n",
    "    inference(idx, num_examples=1)"
   ]
  }
 ],
 "metadata": {
  "kernelspec": {
   "display_name": "base",
   "language": "python",
   "name": "python3"
  },
  "language_info": {
   "codemirror_mode": {
    "name": "ipython",
    "version": 3
   },
   "file_extension": ".py",
   "mimetype": "text/x-python",
   "name": "python",
   "nbconvert_exporter": "python",
   "pygments_lexer": "ipython3",
   "version": "3.9.12"
  }
 },
 "nbformat": 4,
 "nbformat_minor": 2
}
