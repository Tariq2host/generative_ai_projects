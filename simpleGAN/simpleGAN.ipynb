{
 "cells": [
  {
   "cell_type": "code",
   "execution_count": 13,
   "metadata": {},
   "outputs": [],
   "source": [
    "import torch\n",
    "import torchvision\n",
    "import torch.nn as nn\n",
    "import torch.optim as optim\n",
    "import torchvision.datasets as datasets\n",
    "from torch.utils.data import DataLoader\n",
    "import torchvision.transforms as transforms\n",
    "from torch.utils.tensorboard import SummaryWriter"
   ]
  },
  {
   "cell_type": "code",
   "execution_count": 2,
   "metadata": {},
   "outputs": [],
   "source": [
    "class Discriminator(nn.Module):\n",
    "    def  __init__(self, img_dim) -> None:\n",
    "        super().__init__()\n",
    "        self.disc = nn.Sequential(\n",
    "            nn.Linear(img_dim, 128),\n",
    "            nn.LeakyReLU(0.1),\n",
    "            nn.Linear(128,1),\n",
    "            nn.Sigmoid(),\n",
    "        )\n",
    "    def forward(self,x):\n",
    "        return self.disc(x)"
   ]
  },
  {
   "cell_type": "code",
   "execution_count": 4,
   "metadata": {},
   "outputs": [],
   "source": [
    "class Generator(nn.Module):\n",
    "    def  __init__(self, z_dim, img_dim):\n",
    "        super().__init__()\n",
    "        self.gen = nn.Sequential(\n",
    "            nn.Linear(z_dim, 256),\n",
    "            nn.LeakyReLU(0.1),\n",
    "            nn.Linear(256, img_dim), # MNIMST 28*28*1\n",
    "            nn.Tanh(),\n",
    "        )\n",
    "    def forward(self,x):\n",
    "        return self.gen(x)"
   ]
  },
  {
   "cell_type": "code",
   "execution_count": 5,
   "metadata": {},
   "outputs": [],
   "source": [
    "device = \"cuda\" if torch.cuda.is_available() else \"cpu\"\n",
    "lr = 3e-4\n",
    "z_dim = 64\n",
    "image_dim = 28*28*1\n",
    "batch_size = 32\n",
    "num_epochs = 50"
   ]
  },
  {
   "cell_type": "code",
   "execution_count": 6,
   "metadata": {},
   "outputs": [
    {
     "name": "stdout",
     "output_type": "stream",
     "text": [
      "Downloading http://yann.lecun.com/exdb/mnist/train-images-idx3-ubyte.gz\n",
      "Downloading http://yann.lecun.com/exdb/mnist/train-images-idx3-ubyte.gz to dataset/MNIST\\raw\\train-images-idx3-ubyte.gz\n"
     ]
    },
    {
     "name": "stderr",
     "output_type": "stream",
     "text": [
      "100%|██████████| 9912422/9912422 [01:19<00:00, 123966.08it/s]\n"
     ]
    },
    {
     "name": "stdout",
     "output_type": "stream",
     "text": [
      "Extracting dataset/MNIST\\raw\\train-images-idx3-ubyte.gz to dataset/MNIST\\raw\n",
      "\n",
      "Downloading http://yann.lecun.com/exdb/mnist/train-labels-idx1-ubyte.gz\n",
      "Downloading http://yann.lecun.com/exdb/mnist/train-labels-idx1-ubyte.gz to dataset/MNIST\\raw\\train-labels-idx1-ubyte.gz\n"
     ]
    },
    {
     "name": "stderr",
     "output_type": "stream",
     "text": [
      "100%|██████████| 28881/28881 [00:00<00:00, 54092.20it/s]\n"
     ]
    },
    {
     "name": "stdout",
     "output_type": "stream",
     "text": [
      "Extracting dataset/MNIST\\raw\\train-labels-idx1-ubyte.gz to dataset/MNIST\\raw\n",
      "\n",
      "Downloading http://yann.lecun.com/exdb/mnist/t10k-images-idx3-ubyte.gz\n",
      "Downloading http://yann.lecun.com/exdb/mnist/t10k-images-idx3-ubyte.gz to dataset/MNIST\\raw\\t10k-images-idx3-ubyte.gz\n"
     ]
    },
    {
     "name": "stderr",
     "output_type": "stream",
     "text": [
      "100%|██████████| 1648877/1648877 [00:16<00:00, 99005.19it/s] \n"
     ]
    },
    {
     "name": "stdout",
     "output_type": "stream",
     "text": [
      "Extracting dataset/MNIST\\raw\\t10k-images-idx3-ubyte.gz to dataset/MNIST\\raw\n",
      "\n",
      "Downloading http://yann.lecun.com/exdb/mnist/t10k-labels-idx1-ubyte.gz\n",
      "Downloading http://yann.lecun.com/exdb/mnist/t10k-labels-idx1-ubyte.gz to dataset/MNIST\\raw\\t10k-labels-idx1-ubyte.gz\n"
     ]
    },
    {
     "name": "stderr",
     "output_type": "stream",
     "text": [
      "100%|██████████| 4542/4542 [00:00<?, ?it/s]"
     ]
    },
    {
     "name": "stdout",
     "output_type": "stream",
     "text": [
      "Extracting dataset/MNIST\\raw\\t10k-labels-idx1-ubyte.gz to dataset/MNIST\\raw\n",
      "\n"
     ]
    },
    {
     "name": "stderr",
     "output_type": "stream",
     "text": [
      "\n"
     ]
    }
   ],
   "source": [
    "discriminator = Discriminator(image_dim).to(device)\n",
    "generator = Generator(z_dim, image_dim).to(device)\n",
    "fixed_noise = torch.randn((batch_size, z_dim)).to(device)\n",
    "transforms = transforms.Compose(\n",
    "    [transforms.ToTensor(), transforms.Normalize((0.1307,), (0.3081,))] # means and std of MNIST \n",
    ")\n",
    "dataset = datasets.MNIST(root = \"dataset/\", transform=transforms, download = True)\n",
    "loader = DataLoader(dataset, batch_size=batch_size, shuffle=True)\n",
    "opt_disc = optim.Adam(discriminator.parameters(), lr=lr)\n",
    "opt_gen = optim.Adam(generator.parameters(), lr=lr)\n",
    "criterion = nn.BCELoss()\n",
    "writer_fake = SummaryWriter(f\"runs/GAN_MNIST/fake\")\n",
    "writer_real = SummaryWriter(f\"runs/GAN_MNIST/real\")\n",
    "step = 0"
   ]
  },
  {
   "cell_type": "code",
   "execution_count": 14,
   "metadata": {},
   "outputs": [
    {
     "name": "stdout",
     "output_type": "stream",
     "text": [
      "Epoch [0/50] Batch 0/1875                       Loss D: 0.5309, loss G: 0.6450\n",
      "Epoch [1/50] Batch 0/1875                       Loss D: 0.0744, loss G: 2.6749\n",
      "Epoch [2/50] Batch 0/1875                       Loss D: 0.0327, loss G: 3.8955\n",
      "Epoch [3/50] Batch 0/1875                       Loss D: 0.0397, loss G: 3.7457\n",
      "Epoch [4/50] Batch 0/1875                       Loss D: 0.0356, loss G: 4.4808\n",
      "Epoch [5/50] Batch 0/1875                       Loss D: 0.0569, loss G: 5.5115\n",
      "Epoch [6/50] Batch 0/1875                       Loss D: 0.0138, loss G: 6.3366\n",
      "Epoch [7/50] Batch 0/1875                       Loss D: 0.0083, loss G: 5.2438\n",
      "Epoch [8/50] Batch 0/1875                       Loss D: 0.0293, loss G: 5.7426\n",
      "Epoch [9/50] Batch 0/1875                       Loss D: 0.0415, loss G: 5.4944\n",
      "Epoch [10/50] Batch 0/1875                       Loss D: 0.0074, loss G: 5.3813\n",
      "Epoch [11/50] Batch 0/1875                       Loss D: 0.0103, loss G: 5.4017\n",
      "Epoch [12/50] Batch 0/1875                       Loss D: 0.0183, loss G: 5.6035\n",
      "Epoch [13/50] Batch 0/1875                       Loss D: 0.0415, loss G: 5.4884\n",
      "Epoch [14/50] Batch 0/1875                       Loss D: 0.0293, loss G: 6.2619\n",
      "Epoch [15/50] Batch 0/1875                       Loss D: 0.0198, loss G: 7.8525\n",
      "Epoch [16/50] Batch 0/1875                       Loss D: 0.0118, loss G: 5.7716\n",
      "Epoch [17/50] Batch 0/1875                       Loss D: 0.0338, loss G: 4.6172\n",
      "Epoch [18/50] Batch 0/1875                       Loss D: 0.0081, loss G: 5.4482\n",
      "Epoch [19/50] Batch 0/1875                       Loss D: 0.0080, loss G: 5.7633\n",
      "Epoch [20/50] Batch 0/1875                       Loss D: 0.0102, loss G: 6.7311\n",
      "Epoch [21/50] Batch 0/1875                       Loss D: 0.0014, loss G: 8.2049\n",
      "Epoch [22/50] Batch 0/1875                       Loss D: 0.0983, loss G: 6.2431\n",
      "Epoch [23/50] Batch 0/1875                       Loss D: 0.0123, loss G: 7.2245\n",
      "Epoch [24/50] Batch 0/1875                       Loss D: 0.0027, loss G: 7.0806\n",
      "Epoch [25/50] Batch 0/1875                       Loss D: 0.0012, loss G: 8.1612\n",
      "Epoch [26/50] Batch 0/1875                       Loss D: 0.0024, loss G: 7.5183\n",
      "Epoch [27/50] Batch 0/1875                       Loss D: 0.0131, loss G: 6.1722\n",
      "Epoch [28/50] Batch 0/1875                       Loss D: 0.0018, loss G: 7.8423\n",
      "Epoch [29/50] Batch 0/1875                       Loss D: 0.0096, loss G: 6.2917\n",
      "Epoch [30/50] Batch 0/1875                       Loss D: 0.0047, loss G: 7.6391\n",
      "Epoch [31/50] Batch 0/1875                       Loss D: 0.0010, loss G: 9.0584\n",
      "Epoch [32/50] Batch 0/1875                       Loss D: 0.0009, loss G: 7.9959\n",
      "Epoch [33/50] Batch 0/1875                       Loss D: 0.0021, loss G: 7.3921\n",
      "Epoch [34/50] Batch 0/1875                       Loss D: 0.0008, loss G: 9.4095\n",
      "Epoch [35/50] Batch 0/1875                       Loss D: 0.0430, loss G: 8.4803\n",
      "Epoch [36/50] Batch 0/1875                       Loss D: 0.0003, loss G: 8.9590\n",
      "Epoch [37/50] Batch 0/1875                       Loss D: 0.0133, loss G: 8.1374\n",
      "Epoch [38/50] Batch 0/1875                       Loss D: 0.0032, loss G: 7.8647\n",
      "Epoch [39/50] Batch 0/1875                       Loss D: 0.0008, loss G: 7.8863\n",
      "Epoch [40/50] Batch 0/1875                       Loss D: 0.0034, loss G: 7.2809\n",
      "Epoch [41/50] Batch 0/1875                       Loss D: 0.0010, loss G: 8.9629\n",
      "Epoch [42/50] Batch 0/1875                       Loss D: 0.0048, loss G: 8.6083\n",
      "Epoch [43/50] Batch 0/1875                       Loss D: 0.0002, loss G: 9.1816\n",
      "Epoch [44/50] Batch 0/1875                       Loss D: 0.0001, loss G: 9.8959\n",
      "Epoch [45/50] Batch 0/1875                       Loss D: 0.0016, loss G: 7.6672\n",
      "Epoch [46/50] Batch 0/1875                       Loss D: 0.0017, loss G: 9.3570\n",
      "Epoch [47/50] Batch 0/1875                       Loss D: 0.0007, loss G: 9.4857\n",
      "Epoch [48/50] Batch 0/1875                       Loss D: 0.0041, loss G: 8.3392\n",
      "Epoch [49/50] Batch 0/1875                       Loss D: 0.0014, loss G: 7.9249\n"
     ]
    }
   ],
   "source": [
    "for epoch in range(num_epochs):\n",
    "    for batch_idx, (real, _) in enumerate(loader):\n",
    "        real = real.view(-1,784).to(device)\n",
    "        batch_size = real.shape[0]\n",
    "        ### Train Discriminator: max (log(D(real)) + log(1 - D(fake)))\n",
    "        noise = torch.randn(batch_size, z_dim).to(device)  # random noise\n",
    "        fake = generator(noise)                          # generate a fake image\n",
    "        disc_real = discriminator(real).view(-1)\n",
    "        lossD_real = criterion(disc_real, torch.ones_like(disc_real))\n",
    "        disc_fake = discriminator(fake).view(-1)\n",
    "        lossD_fake = criterion(disc_fake, torch.zeros_like(disc_fake))\n",
    "        lossD = (lossD_real + lossD_fake) / 2 \n",
    "        discriminator.zero_grad()\n",
    "        lossD.backward(retain_graph=True)\n",
    "        opt_disc.step()\n",
    "\n",
    "        ### Train Discriminator: min (log(1 - D(G(z)) --> max log(D(G(z))))\n",
    "        output = discriminator(fake).view(-1)\n",
    "        lossG = criterion(output, torch.ones_like(output))\n",
    "        generator.zero_grad()\n",
    "        lossG.backward()\n",
    "        opt_gen.step()\n",
    "        \n",
    "        ## tensorboard\n",
    "        if batch_idx == 0:\n",
    "            print(\n",
    "                f\"Epoch [{epoch}/{num_epochs}] Batch {batch_idx}/{len(loader)} \\\n",
    "                      Loss D: {lossD:.4f}, loss G: {lossG:.4f}\"\n",
    "            )\n",
    "\n",
    "            with torch.no_grad():\n",
    "                fake = generator(fixed_noise).reshape(-1, 1, 28, 28)\n",
    "                data = real.reshape(-1, 1, 28, 28)\n",
    "                img_grid_fake = torchvision.utils.make_grid(fake, normalize=True)\n",
    "                img_grid_real = torchvision.utils.make_grid(data, normalize=True)\n",
    "\n",
    "                writer_fake.add_image(\n",
    "                    \"Mnist Fake Images\", img_grid_fake, global_step=step\n",
    "                )\n",
    "                writer_real.add_image(\n",
    "                    \"Mnist Real Images\", img_grid_real, global_step=step\n",
    "                )\n",
    "                step += 1"
   ]
  }
 ],
 "metadata": {
  "kernelspec": {
   "display_name": "base",
   "language": "python",
   "name": "python3"
  },
  "language_info": {
   "codemirror_mode": {
    "name": "ipython",
    "version": 3
   },
   "file_extension": ".py",
   "mimetype": "text/x-python",
   "name": "python",
   "nbconvert_exporter": "python",
   "pygments_lexer": "ipython3",
   "version": "3.9.12"
  }
 },
 "nbformat": 4,
 "nbformat_minor": 2
}
