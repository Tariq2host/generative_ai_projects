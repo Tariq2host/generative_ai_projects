{
 "cells": [
  {
   "cell_type": "code",
   "execution_count": 1,
   "metadata": {},
   "outputs": [],
   "source": [
    "import torch\n",
    "import torchvision\n",
    "import torch.nn as nn\n",
    "import torch.optim as optim\n",
    "import torchvision.datasets as datasets\n",
    "from torch.utils.data import DataLoader\n",
    "import torchvision.transforms as transforms\n",
    "from torch.utils.tensorboard import SummaryWriter"
   ]
  },
  {
   "cell_type": "code",
   "execution_count": 2,
   "metadata": {},
   "outputs": [],
   "source": [
    "class Discriminator(nn.Module):\n",
    "    def  __init__(self, img_dim) -> None:\n",
    "        super().__init__()\n",
    "        self.disc = nn.Sequential(\n",
    "            nn.Linear(img_dim, 128),\n",
    "            nn.LeakyReLU(0.1),\n",
    "            nn.Linear(128,1),\n",
    "            nn.Sigmoid(),\n",
    "        )\n",
    "    def forward(self,x):\n",
    "        return self.disc(x)"
   ]
  },
  {
   "cell_type": "code",
   "execution_count": 3,
   "metadata": {},
   "outputs": [],
   "source": [
    "class Generator(nn.Module):\n",
    "    def  __init__(self, z_dim, img_dim):\n",
    "        super().__init__()\n",
    "        self.gen = nn.Sequential(\n",
    "            nn.Linear(z_dim, 256),\n",
    "            nn.LeakyReLU(0.1),\n",
    "            nn.Linear(256, img_dim), # MNIMST 28*28*1\n",
    "            nn.Tanh(),\n",
    "        )\n",
    "    def forward(self,x):\n",
    "        return self.gen(x)"
   ]
  },
  {
   "cell_type": "code",
   "execution_count": 4,
   "metadata": {},
   "outputs": [],
   "source": [
    "device = \"cuda\" if torch.cuda.is_available() else \"cpu\"\n",
    "lr = 1e-5\n",
    "z_dim = 64\n",
    "image_dim = 28*28*1\n",
    "batch_size = 64\n",
    "num_epochs = 50"
   ]
  },
  {
   "cell_type": "code",
   "execution_count": 5,
   "metadata": {},
   "outputs": [],
   "source": [
    "discriminator = Discriminator(image_dim).to(device)\n",
    "generator = Generator(z_dim, image_dim).to(device)\n",
    "fixed_noise = torch.randn((batch_size, z_dim)).to(device)\n",
    "transforms = transforms.Compose(\n",
    "    [transforms.ToTensor(), transforms.Normalize((0.1307,), (0.3081,))] # means and std of MNIST \n",
    ")\n",
    "dataset = datasets.MNIST(root = \"dataset/\", transform=transforms, download = True)\n",
    "loader = DataLoader(dataset, batch_size=batch_size, shuffle=True)\n",
    "opt_disc = optim.Adam(discriminator.parameters(), lr=lr)\n",
    "opt_gen = optim.Adam(generator.parameters(), lr=lr)\n",
    "criterion = nn.BCELoss()\n",
    "writer_fake = SummaryWriter(f\"runs/GAN_MNIST/fake\")\n",
    "writer_real = SummaryWriter(f\"runs/GAN_MNIST/real\")\n",
    "step = 0"
   ]
  },
  {
   "cell_type": "code",
   "execution_count": 8,
   "metadata": {},
   "outputs": [
    {
     "name": "stdout",
     "output_type": "stream",
     "text": [
      "<torch.utils.data.dataloader.DataLoader object at 0x0000020E74AB2AF0>\n"
     ]
    }
   ],
   "source": [
    "print(loader)"
   ]
  },
  {
   "cell_type": "code",
   "execution_count": 14,
   "metadata": {},
   "outputs": [
    {
     "name": "stdout",
     "output_type": "stream",
     "text": [
      "Epoch [0/50] Batch 0/938                       Loss D: 0.6777, loss G: 0.7149\n",
      "Epoch [1/50] Batch 0/938                       Loss D: 0.5810, loss G: 0.5340\n",
      "Epoch [2/50] Batch 0/938                       Loss D: 0.5731, loss G: 0.5959\n",
      "Epoch [3/50] Batch 0/938                       Loss D: 0.4914, loss G: 0.7129\n",
      "Epoch [4/50] Batch 0/938                       Loss D: 0.4439, loss G: 0.7478\n",
      "Epoch [5/50] Batch 0/938                       Loss D: 0.4382, loss G: 0.7174\n",
      "Epoch [6/50] Batch 0/938                       Loss D: 0.4441, loss G: 0.6634\n",
      "Epoch [7/50] Batch 0/938                       Loss D: 0.4113, loss G: 0.7378\n",
      "Epoch [8/50] Batch 0/938                       Loss D: 0.3947, loss G: 0.8238\n",
      "Epoch [9/50] Batch 0/938                       Loss D: 0.3806, loss G: 0.8613\n",
      "Epoch [10/50] Batch 0/938                       Loss D: 0.3734, loss G: 0.8804\n",
      "Epoch [11/50] Batch 0/938                       Loss D: 0.3594, loss G: 0.9177\n",
      "Epoch [12/50] Batch 0/938                       Loss D: 0.3370, loss G: 1.0074\n",
      "Epoch [13/50] Batch 0/938                       Loss D: 0.3257, loss G: 1.0242\n",
      "Epoch [14/50] Batch 0/938                       Loss D: 0.3060, loss G: 1.0897\n",
      "Epoch [15/50] Batch 0/938                       Loss D: 0.3208, loss G: 1.1144\n",
      "Epoch [16/50] Batch 0/938                       Loss D: 0.2968, loss G: 1.1983\n",
      "Epoch [17/50] Batch 0/938                       Loss D: 0.2753, loss G: 1.2694\n",
      "Epoch [18/50] Batch 0/938                       Loss D: 0.2394, loss G: 1.3596\n",
      "Epoch [19/50] Batch 0/938                       Loss D: 0.2598, loss G: 1.3843\n",
      "Epoch [20/50] Batch 0/938                       Loss D: 0.2011, loss G: 1.5317\n",
      "Epoch [21/50] Batch 0/938                       Loss D: 0.2033, loss G: 1.5715\n",
      "Epoch [22/50] Batch 0/938                       Loss D: 0.1876, loss G: 1.6598\n",
      "Epoch [23/50] Batch 0/938                       Loss D: 0.1793, loss G: 1.7209\n",
      "Epoch [24/50] Batch 0/938                       Loss D: 0.1670, loss G: 1.7786\n",
      "Epoch [25/50] Batch 0/938                       Loss D: 0.1611, loss G: 1.7673\n",
      "Epoch [26/50] Batch 0/938                       Loss D: 0.1615, loss G: 1.8241\n",
      "Epoch [27/50] Batch 0/938                       Loss D: 0.1856, loss G: 1.8574\n",
      "Epoch [28/50] Batch 0/938                       Loss D: 0.1349, loss G: 2.0517\n",
      "Epoch [29/50] Batch 0/938                       Loss D: 0.1457, loss G: 2.0242\n",
      "Epoch [30/50] Batch 0/938                       Loss D: 0.1334, loss G: 2.0851\n",
      "Epoch [31/50] Batch 0/938                       Loss D: 0.1239, loss G: 2.0632\n",
      "Epoch [32/50] Batch 0/938                       Loss D: 0.1203, loss G: 2.1176\n",
      "Epoch [33/50] Batch 0/938                       Loss D: 0.1273, loss G: 2.2937\n",
      "Epoch [34/50] Batch 0/938                       Loss D: 0.1036, loss G: 2.3855\n",
      "Epoch [35/50] Batch 0/938                       Loss D: 0.0900, loss G: 2.4614\n",
      "Epoch [36/50] Batch 0/938                       Loss D: 0.1017, loss G: 2.4792\n",
      "Epoch [37/50] Batch 0/938                       Loss D: 0.1026, loss G: 2.4555\n",
      "Epoch [38/50] Batch 0/938                       Loss D: 0.1033, loss G: 2.5777\n",
      "Epoch [39/50] Batch 0/938                       Loss D: 0.0979, loss G: 2.6407\n",
      "Epoch [40/50] Batch 0/938                       Loss D: 0.1099, loss G: 2.5041\n",
      "Epoch [41/50] Batch 0/938                       Loss D: 0.1188, loss G: 2.6664\n",
      "Epoch [42/50] Batch 0/938                       Loss D: 0.1088, loss G: 2.6294\n",
      "Epoch [43/50] Batch 0/938                       Loss D: 0.0866, loss G: 2.5458\n",
      "Epoch [44/50] Batch 0/938                       Loss D: 0.0904, loss G: 2.5419\n",
      "Epoch [45/50] Batch 0/938                       Loss D: 0.1070, loss G: 2.5663\n",
      "Epoch [46/50] Batch 0/938                       Loss D: 0.0923, loss G: 2.8289\n",
      "Epoch [47/50] Batch 0/938                       Loss D: 0.0747, loss G: 2.6186\n",
      "Epoch [48/50] Batch 0/938                       Loss D: 0.1073, loss G: 2.8661\n",
      "Epoch [49/50] Batch 0/938                       Loss D: 0.0648, loss G: 2.7683\n"
     ]
    }
   ],
   "source": [
    "for epoch in range(num_epochs):\n",
    "    for batch_idx, (real, _) in enumerate(loader):\n",
    "        real = real.view(-1,784).to(device)\n",
    "        batch_size = real.shape[0]\n",
    "        ### Train Discriminator: max (log(D(real)) + log(1 - D(fake)))\n",
    "        noise = torch.randn(batch_size, z_dim).to(device)  # random noise\n",
    "        fake = generator(noise)                          # generate a fake image\n",
    "        disc_real = discriminator(real).view(-1)\n",
    "        lossD_real = criterion(disc_real, torch.ones_like(disc_real))\n",
    "        disc_fake = discriminator(fake).view(-1)\n",
    "        lossD_fake = criterion(disc_fake, torch.zeros_like(disc_fake))\n",
    "        lossD = (lossD_real + lossD_fake) / 2 \n",
    "        discriminator.zero_grad()\n",
    "        lossD.backward(retain_graph=True)\n",
    "        opt_disc.step()\n",
    "\n",
    "        ### Train Discriminator: min (log(1 - D(G(z)) --> max log(D(G(z))))\n",
    "        output = discriminator(fake).view(-1)\n",
    "        lossG = criterion(output, torch.ones_like(output))\n",
    "        generator.zero_grad()\n",
    "        lossG.backward()\n",
    "        opt_gen.step()\n",
    "        \n",
    "        ## tensorboard\n",
    "        if batch_idx == 0:\n",
    "            print(\n",
    "                f\"Epoch [{epoch}/{num_epochs}] Batch {batch_idx}/{len(loader)} \\\n",
    "                      Loss D: {lossD:.4f}, loss G: {lossG:.4f}\"\n",
    "            )\n",
    "\n",
    "            with torch.no_grad():\n",
    "                fake = generator(fixed_noise).reshape(-1, 1, 28, 28)\n",
    "                data = real.reshape(-1, 1, 28, 28)\n",
    "                img_grid_fake = torchvision.utils.make_grid(fake, normalize=True)\n",
    "                img_grid_real = torchvision.utils.make_grid(data, normalize=True)\n",
    "\n",
    "                writer_fake.add_image(\n",
    "                    \"Mnist Fake Images\", img_grid_fake, global_step=step\n",
    "                )\n",
    "                writer_real.add_image(\n",
    "                    \"Mnist Real Images\", img_grid_real, global_step=step\n",
    "                )\n",
    "                step += 1"
   ]
  }
 ],
 "metadata": {
  "kernelspec": {
   "display_name": "base",
   "language": "python",
   "name": "python3"
  },
  "language_info": {
   "codemirror_mode": {
    "name": "ipython",
    "version": 3
   },
   "file_extension": ".py",
   "mimetype": "text/x-python",
   "name": "python",
   "nbconvert_exporter": "python",
   "pygments_lexer": "ipython3",
   "version": "3.9.12"
  }
 },
 "nbformat": 4,
 "nbformat_minor": 2
}
